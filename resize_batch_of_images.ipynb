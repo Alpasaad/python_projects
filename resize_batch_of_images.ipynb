{
 "cells": [
  {
   "cell_type": "markdown",
   "id": "4f5b4d3c",
   "metadata": {},
   "source": [
    "# this program helped you to open a list of images and resize it  "
   ]
  },
  {
   "cell_type": "code",
   "execution_count": 4,
   "id": "9d22090e",
   "metadata": {},
   "outputs": [],
   "source": [
    "import cv2 #the  stander computer vision library in python \n",
    "import glob #this library to find files recursively in Python"
   ]
  },
  {
   "cell_type": "code",
   "execution_count": 7,
   "id": "2b578482",
   "metadata": {},
   "outputs": [],
   "source": [
    "images = glob.glob(\"*.jpg\")# to read all file with jbg extention and  put it into list \n",
    "#then i wilcraete loop to go through each imge and do \n",
    "# 1.read it \n",
    "#2.resize it \n",
    "#3.dispaly it \n",
    "#4.save it with the resized followed by the name of image \n",
    "for i in images :\n",
    "    images=cv2.imread(i,0)#i read it in agray level to make it faster \n",
    "    resize_img=cv2.resize(i,(200,200))\n",
    "    cv2.show(\"the ressized image\",resize_img)\n",
    "    cv2.imshow(\"Hey\",re)\n",
    "    cv2.waitKey(0)\n",
    "    cv2.destroyAllWindows()\n",
    "    cv2.imwrite(\"resized_\"+i,resize_img)"
   ]
  },
  {
   "cell_type": "code",
   "execution_count": null,
   "id": "f8c01967",
   "metadata": {},
   "outputs": [],
   "source": []
  }
 ],
 "metadata": {
  "kernelspec": {
   "display_name": "Python 3",
   "language": "python",
   "name": "python3"
  },
  "language_info": {
   "codemirror_mode": {
    "name": "ipython",
    "version": 3
   },
   "file_extension": ".py",
   "mimetype": "text/x-python",
   "name": "python",
   "nbconvert_exporter": "python",
   "pygments_lexer": "ipython3",
   "version": "3.8.8"
  }
 },
 "nbformat": 4,
 "nbformat_minor": 5
}
