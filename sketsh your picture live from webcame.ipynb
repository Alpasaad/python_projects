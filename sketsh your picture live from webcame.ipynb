{
 "cells": [
  {
   "cell_type": "code",
   "execution_count": 1,
   "id": "854cd17c",
   "metadata": {},
   "outputs": [],
   "source": [
    "import cv2\n",
    "import numpy as np "
   ]
  },
  {
   "cell_type": "code",
   "execution_count": 17,
   "id": "8cbddd3c",
   "metadata": {},
   "outputs": [],
   "source": [
    "def sketch(image):\n",
    "    gray_image=cv2.cvtColor(image,cv2.COLOR_BGR2GRAY) #to make it faster and esy to convert \n",
    "    #i will clean the image using the gaussain blur filter \n",
    "    gaussian_img=cv2.GaussianBlur(gray_image,(5,5),0)\n",
    "    #then i will use canny ege detection method \n",
    "    canny_imge=cv2.Canny(gaussian_img,5,70)\n",
    "        # then  i'll invert binarize the image \n",
    "    ret, mask = cv2.threshold(canny_imge, 20, 255, cv2.THRESH_BINARY_INV)\n",
    "    return mask"
   ]
  },
  {
   "cell_type": "code",
   "execution_count": null,
   "id": "90b2911c",
   "metadata": {},
   "outputs": [],
   "source": [
    "cap = cv2.VideoCapture(0)\n",
    "\n",
    "while True:\n",
    "    ret, frame = cap.read()\n",
    "    cv2.imshow('Our Live Sketcher', sketch(frame))\n",
    "    #27 is the esc Key to ennd the program \n",
    "    if cv2.waitKey(1) == 27: \n",
    "        break\n",
    "        \n",
    "# Release camera and close windows\n",
    "cap.release()\n",
    "cv2.destroyAllWindows()      "
   ]
  },
  {
   "cell_type": "code",
   "execution_count": 9,
   "id": "7e60bc00",
   "metadata": {},
   "outputs": [],
   "source": [
    "     "
   ]
  },
  {
   "cell_type": "code",
   "execution_count": null,
   "id": "546c0aea",
   "metadata": {},
   "outputs": [],
   "source": []
  }
 ],
 "metadata": {
  "kernelspec": {
   "display_name": "Python 3",
   "language": "python",
   "name": "python3"
  },
  "language_info": {
   "codemirror_mode": {
    "name": "ipython",
    "version": 3
   },
   "file_extension": ".py",
   "mimetype": "text/x-python",
   "name": "python",
   "nbconvert_exporter": "python",
   "pygments_lexer": "ipython3",
   "version": "3.8.8"
  }
 },
 "nbformat": 4,
 "nbformat_minor": 5
}
